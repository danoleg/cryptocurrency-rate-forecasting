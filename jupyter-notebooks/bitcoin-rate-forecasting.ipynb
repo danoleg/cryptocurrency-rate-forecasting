{
 "cells": [
  {
   "cell_type": "markdown",
   "metadata": {},
   "source": [
    "#### Install system packages for ODBC"
   ]
  },
  {
   "cell_type": "code",
   "execution_count": null,
   "metadata": {},
   "outputs": [],
   "source": [
    "!apt-get update\n",
    "!apt-get install gcc\n",
    "!apt-get install -y tdsodbc unixodbc-dev\n",
    "!apt install unixodbc-bin -y\n",
    "!apt-get clean "
   ]
  },
  {
   "cell_type": "markdown",
   "metadata": {},
   "source": [
    "#### Use this command to troubleshoot a failed pyodbc installation:\n",
    "!pip install --upgrade --global-option=build_ext --global-option=\"-I/usr/local/include\"  --global-option=\"-L/usr/local/lib\" pyodbc"
   ]
  },
  {
   "cell_type": "code",
   "execution_count": null,
   "metadata": {},
   "outputs": [],
   "source": [
    "!pip install pyodbc\n",
    "!pip install pandas"
   ]
  },
  {
   "cell_type": "code",
   "execution_count": 3,
   "metadata": {},
   "outputs": [],
   "source": [
    "!rm /etc/odbcinst.ini\n",
    "!rm /etc/odbc.ini"
   ]
  },
  {
   "cell_type": "code",
   "execution_count": 4,
   "metadata": {},
   "outputs": [],
   "source": [
    "!ln -s /tf/odbcinst.ini /etc/odbcinst.ini\n",
    "!ln -s /tf/odbc.ini /etc/odbc.ini"
   ]
  },
  {
   "cell_type": "code",
   "execution_count": 5,
   "metadata": {},
   "outputs": [
    {
     "name": "stdout",
     "output_type": "stream",
     "text": [
      "[InterSystems ODBC35]\r\n",
      "UsageCount=1\r\n",
      "Driver=/tf/libirisodbcu35.so\r\n",
      "Setup=/tf/libirisodbcu35.so\r\n",
      "SQLLevel=1\r\n",
      "FileUsage=0\r\n",
      "DriverODBCVer=02.10\r\n",
      "ConnectFunctions=YYN\r\n",
      "APILevel=1\r\n",
      "DEBUG=1\r\n",
      "CPTimeout=<not pooled>\r\n",
      "\r\n"
     ]
    }
   ],
   "source": [
    "!cat /tf/odbcinst.ini"
   ]
  },
  {
   "cell_type": "code",
   "execution_count": 6,
   "metadata": {},
   "outputs": [
    {
     "name": "stdout",
     "output_type": "stream",
     "text": [
      "[user]\r\n",
      "Driver=InterSystems ODBC35\r\n",
      "Protocol=TCP\r\n",
      "Host=irisimlsvr\r\n",
      "Port=51773\r\n",
      "Namespace=USER\r\n",
      "UID=SUPERUSER\r\n",
      "Password=SYS\r\n",
      "Description=Sample namespace\r\n",
      "Query Timeout=0\r\n",
      "Static Cursors=0\r\n",
      "\r\n"
     ]
    }
   ],
   "source": [
    "!cat /tf/odbc.ini"
   ]
  },
  {
   "cell_type": "code",
   "execution_count": 7,
   "metadata": {},
   "outputs": [
    {
     "name": "stdout",
     "output_type": "stream",
     "text": [
      "unixODBC 2.3.4\r\n",
      "DRIVERS............: /etc/odbcinst.ini\r\n",
      "SYSTEM DATA SOURCES: /etc/odbc.ini\r\n",
      "FILE DATA SOURCES..: /etc/ODBCDataSources\r\n",
      "USER DATA SOURCES..: /root/.odbc.ini\r\n",
      "SQLULEN Size.......: 8\r\n",
      "SQLLEN Size........: 8\r\n",
      "SQLSETPOSIROW Size.: 8\r\n"
     ]
    }
   ],
   "source": [
    "!odbcinst -j"
   ]
  },
  {
   "cell_type": "markdown",
   "metadata": {},
   "source": [
    "#### Get an ODBC connection "
   ]
  },
  {
   "cell_type": "code",
   "execution_count": 8,
   "metadata": {},
   "outputs": [],
   "source": [
    "import pyodbc \n",
    "import time\n",
    "\n",
    "dsn = 'IRIS QuickML demo via PyODBC'\n",
    "server = 'irisimlsvr'\n",
    "port = '1972'\n",
    "database = 'USER' \n",
    "username = 'SUPERUSER' \n",
    "password = 'SYS' \n",
    "cnxn = pyodbc.connect('DRIVER={InterSystems ODBC35};SERVER='+server+';PORT='+port+';DATABASE='+database+';UID='+username+';PWD='+ password)\n",
    "\n",
    "cnxn.setdecoding(pyodbc.SQL_CHAR, encoding='utf8')\n",
    "cnxn.setdecoding(pyodbc.SQL_WCHAR, encoding='utf8')\n",
    "cnxn.setencoding(encoding='utf8')\n",
    "cursor = cnxn.cursor()"
   ]
  },
  {
   "cell_type": "markdown",
   "metadata": {},
   "source": [
    "####  Prepare training data, and give a model name"
   ]
  },
  {
   "cell_type": "code",
   "execution_count": 16,
   "metadata": {},
   "outputs": [],
   "source": [
    "dataTable = 'BitcoinRates'\n",
    "dataTablePredict = 'BitcoinRatesResult'\n",
    "dataColumn =  'Rate'\n",
    "dataColumnPredict = \"PredictedRate\"\n",
    "modelName = \"SVR_model\" # must be unique"
   ]
  },
  {
   "cell_type": "markdown",
   "metadata": {},
   "source": [
    "#### Get bitcoin rate history rates"
   ]
  },
  {
   "cell_type": "code",
   "execution_count": 11,
   "metadata": {},
   "outputs": [
    {
     "data": {
      "text/plain": [
       "<pyodbc.Cursor at 0x7f42a04373b0>"
      ]
     },
     "execution_count": 11,
     "metadata": {},
     "output_type": "execute_result"
    }
   ],
   "source": [
    "cursor.execute(f\"CREATE TABLE {dataTable} ( id INT(32) AUTO_INCREMENT PRIMARY KEY, day DATE, rate FLOAT)\")"
   ]
  },
  {
   "cell_type": "code",
   "execution_count": 12,
   "metadata": {},
   "outputs": [
    {
     "data": {
      "text/html": [
       "<div>\n",
       "<style scoped>\n",
       "    .dataframe tbody tr th:only-of-type {\n",
       "        vertical-align: middle;\n",
       "    }\n",
       "\n",
       "    .dataframe tbody tr th {\n",
       "        vertical-align: top;\n",
       "    }\n",
       "\n",
       "    .dataframe thead th {\n",
       "        text-align: right;\n",
       "    }\n",
       "</style>\n",
       "<table border=\"1\" class=\"dataframe\">\n",
       "  <thead>\n",
       "    <tr style=\"text-align: right;\">\n",
       "      <th></th>\n",
       "      <th>Date</th>\n",
       "      <th>Rate</th>\n",
       "    </tr>\n",
       "  </thead>\n",
       "  <tbody>\n",
       "    <tr>\n",
       "      <th>2640</th>\n",
       "      <td>2020-07-21 23:59:59</td>\n",
       "      <td>9278.326487</td>\n",
       "    </tr>\n",
       "    <tr>\n",
       "      <th>2641</th>\n",
       "      <td>2020-07-22 23:59:59</td>\n",
       "      <td>9425.086202</td>\n",
       "    </tr>\n",
       "    <tr>\n",
       "      <th>2642</th>\n",
       "      <td>2020-07-23 23:59:59</td>\n",
       "      <td>9546.625572</td>\n",
       "    </tr>\n",
       "    <tr>\n",
       "      <th>2643</th>\n",
       "      <td>2020-07-24 23:59:59</td>\n",
       "      <td>9552.395478</td>\n",
       "    </tr>\n",
       "    <tr>\n",
       "      <th>2644</th>\n",
       "      <td>2020-07-25 23:59:59</td>\n",
       "      <td>9617.384605</td>\n",
       "    </tr>\n",
       "  </tbody>\n",
       "</table>\n",
       "</div>"
      ],
      "text/plain": [
       "                    Date         Rate\n",
       "2640 2020-07-21 23:59:59  9278.326487\n",
       "2641 2020-07-22 23:59:59  9425.086202\n",
       "2642 2020-07-23 23:59:59  9546.625572\n",
       "2643 2020-07-24 23:59:59  9552.395478\n",
       "2644 2020-07-25 23:59:59  9617.384605"
      ]
     },
     "execution_count": 12,
     "metadata": {},
     "output_type": "execute_result"
    }
   ],
   "source": [
    "import pandas as pd\n",
    "from datetime import datetime, timedelta\n",
    "\n",
    "rates = pd.read_csv(\"coin_Bitcoin.csv\", sep=\",\")\n",
    "rates['Date'] = pd.to_datetime(rates.Date)\n",
    "rates['Rate'] = (rates['High']+rates['Low'])/2\n",
    "del rates['SNo'], rates['Name'], rates['Symbol'], rates['High'], rates['Low'], rates['Open'], rates['Close'], rates['Volume'], rates['Marketcap']\n",
    "\n",
    "last_year_rates = rates.loc[rates['Date'] >= datetime.today() - timedelta(days=365)]\n",
    "\n",
    "last_year_rates.head()"
   ]
  },
  {
   "cell_type": "markdown",
   "metadata": {},
   "source": [
    "#### Draw a chart of the bitcoin rate "
   ]
  },
  {
   "cell_type": "code",
   "execution_count": 13,
   "metadata": {},
   "outputs": [
    {
     "data": {
      "text/plain": [
       "<matplotlib.axes._subplots.AxesSubplot at 0x7f4276e15e80>"
      ]
     },
     "execution_count": 13,
     "metadata": {},
     "output_type": "execute_result"
    },
    {
     "data": {
      "image/png": "[encoded data removed]",
      "text/plain": [
       "<Figure size 432x288 with 1 Axes>"
      ]
     },
     "metadata": {
      "needs_background": "light"
     },
     "output_type": "display_data"
    }
   ],
   "source": [
    "last_year_rates.plot.line('Date', 'Rate')"
   ]
  },
  {
   "cell_type": "markdown",
   "metadata": {},
   "source": [
    "#### Insert data into IRIS"
   ]
  },
  {
   "cell_type": "code",
   "execution_count": 14,
   "metadata": {},
   "outputs": [],
   "source": [
    "for index, row in last_year_rates.iterrows():\n",
    "    cursor.execute(f\"INSERT INTO {dataTable} VALUES ({index},{str(row['Date'])[0:10]}, {row['Rate']})\")"
   ]
  },
  {
   "cell_type": "markdown",
   "metadata": {},
   "source": [
    "#### Train model and make prediction"
   ]
  },
  {
   "cell_type": "code",
   "execution_count": 18,
   "metadata": {},
   "outputs": [],
   "source": [
    "cursor.execute(\"CREATE MODEL %s PREDICTING (%s)  FROM %s\" % (modelName, dataColumn, dataTable))\n",
    "cursor.execute(\"TRAIN MODEL %s FROM %s\" % (modelName, dataTable))\n",
    "cursor.execute(\"Create Table %s (%s VARCHAR(100), %s VARCHAR(100))\" % (dataTablePredict, dataColumnPredict, dataColumn))\n",
    "cursor.execute(\"INSERT INTO %s SELECT TOP 50 PREDICT(%s) AS %s, %s FROM %s\" % (dataTablePredict, modelName, dataColumnPredict, dataColumn, dataTable)) \n",
    "cnxn.commit()"
   ]
  },
  {
   "cell_type": "code",
   "execution_count": 21,
   "metadata": {},
   "outputs": [],
   "source": [
    "# uncomment string if PredictedRate already exist\n",
    "# cursor.execute(\"DROP TABLE %s\" % (dataTablePredict))"
   ]
  },
  {
   "cell_type": "markdown",
   "metadata": {},
   "source": [
    "#### Look at result"
   ]
  },
  {
   "cell_type": "code",
   "execution_count": 22,
   "metadata": {},
   "outputs": [
    {
     "data": {
      "text/html": [
       "<div>\n",
       "<style scoped>\n",
       "    .dataframe tbody tr th:only-of-type {\n",
       "        vertical-align: middle;\n",
       "    }\n",
       "\n",
       "    .dataframe tbody tr th {\n",
       "        vertical-align: top;\n",
       "    }\n",
       "\n",
       "    .dataframe thead th {\n",
       "        text-align: right;\n",
       "    }\n",
       "</style>\n",
       "<table border=\"1\" class=\"dataframe\">\n",
       "  <thead>\n",
       "    <tr style=\"text-align: right;\">\n",
       "      <th></th>\n",
       "      <th>PredictedRate</th>\n",
       "      <th>Rate</th>\n",
       "    </tr>\n",
       "  </thead>\n",
       "  <tbody>\n",
       "    <tr>\n",
       "      <th>0</th>\n",
       "      <td>9766.4853515625</td>\n",
       "      <td>9278.326487345001</td>\n",
       "    </tr>\n",
       "    <tr>\n",
       "      <th>1</th>\n",
       "      <td>9766.4853515625</td>\n",
       "      <td>9425.086201965001</td>\n",
       "    </tr>\n",
       "    <tr>\n",
       "      <th>2</th>\n",
       "      <td>9766.4853515625</td>\n",
       "      <td>9546.625571864999</td>\n",
       "    </tr>\n",
       "    <tr>\n",
       "      <th>3</th>\n",
       "      <td>9766.4853515625</td>\n",
       "      <td>9552.3954784</td>\n",
       "    </tr>\n",
       "    <tr>\n",
       "      <th>4</th>\n",
       "      <td>9766.4853515625</td>\n",
       "      <td>9617.384604610001</td>\n",
       "    </tr>\n",
       "    <tr>\n",
       "      <th>5</th>\n",
       "      <td>9980.1630859375</td>\n",
       "      <td>9838.327433710001</td>\n",
       "    </tr>\n",
       "    <tr>\n",
       "      <th>6</th>\n",
       "      <td>10715.94921875</td>\n",
       "      <td>10601.095934425</td>\n",
       "    </tr>\n",
       "    <tr>\n",
       "      <th>7</th>\n",
       "      <td>10984.1982421875</td>\n",
       "      <td>10918.47965265</td>\n",
       "    </tr>\n",
       "    <tr>\n",
       "      <th>8</th>\n",
       "      <td>11114.5029296875</td>\n",
       "      <td>11080.26920515</td>\n",
       "    </tr>\n",
       "    <tr>\n",
       "      <th>9</th>\n",
       "      <td>11114.5029296875</td>\n",
       "      <td>11032.40603765</td>\n",
       "    </tr>\n",
       "  </tbody>\n",
       "</table>\n",
       "</div>"
      ],
      "text/plain": [
       "      PredictedRate               Rate\n",
       "0   9766.4853515625  9278.326487345001\n",
       "1   9766.4853515625  9425.086201965001\n",
       "2   9766.4853515625  9546.625571864999\n",
       "3   9766.4853515625       9552.3954784\n",
       "4   9766.4853515625  9617.384604610001\n",
       "5   9980.1630859375  9838.327433710001\n",
       "6    10715.94921875    10601.095934425\n",
       "7  10984.1982421875     10918.47965265\n",
       "8  11114.5029296875     11080.26920515\n",
       "9  11114.5029296875     11032.40603765"
      ]
     },
     "execution_count": 22,
     "metadata": {},
     "output_type": "execute_result"
    }
   ],
   "source": [
    "from IPython.display import display\n",
    "\n",
    "result = pd.read_sql(\"SELECT * from %s ORDER BY ID\" % dataTablePredict, cnxn)\n",
    "result.head(10)"
   ]
  },
  {
   "cell_type": "markdown",
   "metadata": {},
   "source": [
    "#### Check model accuracy"
   ]
  },
  {
   "cell_type": "markdown",
   "metadata": {},
   "source": [
    "When training the model, the accuracy is considered satisfactory if the value is greater than 95%."
   ]
  },
  {
   "cell_type": "code",
   "execution_count": 23,
   "metadata": {},
   "outputs": [
    {
     "data": {
      "text/plain": [
       "98.43334650997019"
      ]
     },
     "execution_count": 23,
     "metadata": {},
     "output_type": "execute_result"
    }
   ],
   "source": [
    "result['Deviation'] = abs(result['Rate'].astype(float) - result['PredictedRate'].astype(float))/result['Rate'].astype(float)\n",
    "mape = result['Deviation'].sum()*100/result['Deviation'].count()\n",
    "accuracy = 100-mape\n",
    "accuracy\n"
   ]
  },
  {
   "cell_type": "code",
   "execution_count": null,
   "metadata": {},
   "outputs": [],
   "source": [
    "cnxn.close()"
   ]
  }
 ],
 "metadata": {
  "kernelspec": {
   "display_name": "Python 3",
   "language": "python",
   "name": "python3"
  },
  "language_info": {
   "codemirror_mode": {
    "name": "ipython",
    "version": 3
   },
   "file_extension": ".py",
   "mimetype": "text/x-python",
   "name": "python",
   "nbconvert_exporter": "python",
   "pygments_lexer": "ipython3",
   "version": "3.6.9"
  }
 },
 "nbformat": 4,
 "nbformat_minor": 2
}
