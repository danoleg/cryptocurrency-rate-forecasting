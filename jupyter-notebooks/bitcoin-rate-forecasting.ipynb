{
 "cells": [
  {
   "cell_type": "markdown",
   "metadata": {},
   "source": [
    "#### Get an ODBC connection "
   ]
  },
  {
   "cell_type": "code",
   "execution_count": 1,
   "metadata": {},
   "outputs": [],
   "source": [
    "import pyodbc \n",
    "import time\n",
    "\n",
    "server = 'irisimlsvr'\n",
    "port = '1972'\n",
    "database = 'USER' \n",
    "username = 'SUPERUSER' \n",
    "password = 'SYS' \n",
    "cnxn = pyodbc.connect('DRIVER={InterSystems ODBC35};SERVER='+server+';PORT='+port+';DATABASE='+database+';UID='+username+';PWD='+ password)\n",
    "\n",
    "cnxn.setdecoding(pyodbc.SQL_CHAR, encoding='utf8')\n",
    "cnxn.setdecoding(pyodbc.SQL_WCHAR, encoding='utf8')\n",
    "cnxn.setencoding(encoding='utf8')\n",
    "cursor = cnxn.cursor()"
   ]
  },
  {
   "cell_type": "markdown",
   "metadata": {},
   "source": [
    "####  Prepare training data, and give a model name"
   ]
  },
  {
   "cell_type": "code",
   "execution_count": 19,
   "metadata": {},
   "outputs": [],
   "source": [
    "dataTable = 'BitcoinRates'\n",
    "dataColumn =  'Rate'\n",
    "dataColumnPredict = \"PredictedRate\"\n",
    "modelName = \"SVR_model3\" # must be unique\n",
    "train_size=320\n",
    "test_size=-30"
   ]
  },
  {
   "cell_type": "markdown",
   "metadata": {},
   "source": [
    "#### Get bitcoin rate history rates"
   ]
  },
  {
   "cell_type": "code",
   "execution_count": 4,
   "metadata": {},
   "outputs": [
    {
     "data": {
      "text/plain": [
       "<pyodbc.Cursor at 0x7fac98604230>"
      ]
     },
     "execution_count": 4,
     "metadata": {},
     "output_type": "execute_result"
    }
   ],
   "source": [
    "# cursor.execute(f\"DROP TABLE {dataTable}\")\n",
    "cursor.execute(f\"CREATE TABLE {dataTable} ( id INT(32) AUTO_INCREMENT PRIMARY KEY, day DATE, rate FLOAT)\")"
   ]
  },
  {
   "cell_type": "code",
   "execution_count": 5,
   "metadata": {},
   "outputs": [
    {
     "data": {
      "text/html": [
       "<div>\n",
       "<style scoped>\n",
       "    .dataframe tbody tr th:only-of-type {\n",
       "        vertical-align: middle;\n",
       "    }\n",
       "\n",
       "    .dataframe tbody tr th {\n",
       "        vertical-align: top;\n",
       "    }\n",
       "\n",
       "    .dataframe thead th {\n",
       "        text-align: right;\n",
       "    }\n",
       "</style>\n",
       "<table border=\"1\" class=\"dataframe\">\n",
       "  <thead>\n",
       "    <tr style=\"text-align: right;\">\n",
       "      <th></th>\n",
       "      <th>Date</th>\n",
       "      <th>Rate</th>\n",
       "    </tr>\n",
       "  </thead>\n",
       "  <tbody>\n",
       "    <tr>\n",
       "      <th>2641</th>\n",
       "      <td>2020-07-22 23:59:59</td>\n",
       "      <td>9425.086202</td>\n",
       "    </tr>\n",
       "    <tr>\n",
       "      <th>2642</th>\n",
       "      <td>2020-07-23 23:59:59</td>\n",
       "      <td>9546.625572</td>\n",
       "    </tr>\n",
       "    <tr>\n",
       "      <th>2643</th>\n",
       "      <td>2020-07-24 23:59:59</td>\n",
       "      <td>9552.395478</td>\n",
       "    </tr>\n",
       "    <tr>\n",
       "      <th>2644</th>\n",
       "      <td>2020-07-25 23:59:59</td>\n",
       "      <td>9617.384605</td>\n",
       "    </tr>\n",
       "    <tr>\n",
       "      <th>2645</th>\n",
       "      <td>2020-07-26 23:59:59</td>\n",
       "      <td>9838.327434</td>\n",
       "    </tr>\n",
       "  </tbody>\n",
       "</table>\n",
       "</div>"
      ],
      "text/plain": [
       "                    Date         Rate\n",
       "2641 2020-07-22 23:59:59  9425.086202\n",
       "2642 2020-07-23 23:59:59  9546.625572\n",
       "2643 2020-07-24 23:59:59  9552.395478\n",
       "2644 2020-07-25 23:59:59  9617.384605\n",
       "2645 2020-07-26 23:59:59  9838.327434"
      ]
     },
     "execution_count": 5,
     "metadata": {},
     "output_type": "execute_result"
    }
   ],
   "source": [
    "import pandas as pd\n",
    "from datetime import datetime, timedelta\n",
    "\n",
    "rates = pd.read_csv(\"coin_Bitcoin.csv\", sep=\",\")\n",
    "rates['Date'] = pd.to_datetime(rates.Date)\n",
    "rates['Rate'] = (rates['High']+rates['Low'])/2\n",
    "del rates['SNo'], rates['Name'], rates['Symbol'], rates['High'], rates['Low'], rates['Open'], rates['Close'], rates['Volume'], rates['Marketcap']\n",
    "\n",
    "last_year_rates = rates.loc[rates['Date'] >= datetime.today() - timedelta(days=365)]\n",
    "\n",
    "last_year_rates.head()"
   ]
  },
  {
   "cell_type": "markdown",
   "metadata": {},
   "source": [
    "#### Draw a chart of the bitcoin rate "
   ]
  },
  {
   "cell_type": "code",
   "execution_count": 6,
   "metadata": {},
   "outputs": [
    {
     "data": {
      "text/plain": [
       "<matplotlib.axes._subplots.AxesSubplot at 0x7fac6cfcbbe0>"
      ]
     },
     "execution_count": 6,
     "metadata": {},
     "output_type": "execute_result"
    },
    {
     "data": {
      "image/png": "[encoded data removed]",
      "text/plain": [
       "<Figure size 432x288 with 1 Axes>"
      ]
     },
     "metadata": {
      "needs_background": "light"
     },
     "output_type": "display_data"
    }
   ],
   "source": [
    "last_year_rates.plot.line('Date', 'Rate')"
   ]
  },
  {
   "cell_type": "markdown",
   "metadata": {},
   "source": [
    "#### Insert data into IRIS"
   ]
  },
  {
   "cell_type": "code",
   "execution_count": 7,
   "metadata": {},
   "outputs": [],
   "source": [
    "cursor.execute(f\"TRUNCATE TABLE {dataTable}\")\n",
    "for index, row in last_year_rates.iterrows():\n",
    "    cursor.execute(f\"INSERT INTO {dataTable} VALUES ({index},'{str(row['Date'])}', {row['Rate']})\")\n",
    "cnxn.commit()"
   ]
  },
  {
   "cell_type": "markdown",
   "metadata": {},
   "source": [
    "#### Train model and make prediction"
   ]
  },
  {
   "cell_type": "code",
   "execution_count": 13,
   "metadata": {},
   "outputs": [
    {
     "name": "stdout",
     "output_type": "stream",
     "text": [
      "Model training completed\n"
     ]
    }
   ],
   "source": [
    "cursor.execute(\"CREATE MODEL %s PREDICTING (%s)  FROM %s\" % (modelName, dataColumn, dataTable))\n",
    "cursor.execute(\"TRAIN MODEL %s FROM %s\" % (modelName, dataTable))\n",
    "cnxn.commit()\n",
    "print('Model training completed')"
   ]
  },
  {
   "cell_type": "code",
   "execution_count": 21,
   "metadata": {},
   "outputs": [],
   "source": [
    "# uncomment string if PredictedRate already exist\n",
    "# cursor.execute(\"DROP TABLE %s\" % (dataTablePredict))"
   ]
  },
  {
   "cell_type": "markdown",
   "metadata": {},
   "source": [
    "#### Look at result"
   ]
  },
  {
   "cell_type": "code",
   "execution_count": 20,
   "metadata": {},
   "outputs": [
    {
     "data": {
      "text/plain": [
       "<matplotlib.axes._subplots.AxesSubplot at 0x7fac6a499048>"
      ]
     },
     "execution_count": 20,
     "metadata": {},
     "output_type": "execute_result"
    },
    {
     "data": {
      "image/png": "[encoded data removed]",
      "text/plain": [
       "<Figure size 432x288 with 1 Axes>"
      ]
     },
     "metadata": {
      "needs_background": "light"
     },
     "output_type": "display_data"
    },
    {
     "data": {
      "image/png": "[encoded data removed]",
      "text/plain": [
       "<Figure size 432x288 with 1 Axes>"
      ]
     },
     "metadata": {
      "needs_background": "light"
     },
     "output_type": "display_data"
    }
   ],
   "source": [
    "data = pd.read_sql(\"SELECT %s as Rate, day FROM %s\" % (dataColumn, dataTable), cnxn)\n",
    "prediction = pd.read_sql(\"SELECT PREDICT(%s) AS %s, day FROM %s\" % (modelName, dataColumnPredict, dataTable), cnxn)\n",
    "all_data = data.sort_values(by=\"day\")[0:train_size].merge(prediction[test_size:], on=\"day\", how=\"outer\")\n",
    "all_data.plot.line('day', color={'Rate': 'green', 'PredictedRate': 'red'}, title=\"Last year\")\n",
    "all_data[-80:].plot.line('day', color={'Rate': 'green', 'PredictedRate': 'red'}, title=\"Last 80 days\")"
   ]
  },
  {
   "cell_type": "markdown",
   "metadata": {},
   "source": [
    "#### Check model accuracy"
   ]
  },
  {
   "cell_type": "markdown",
   "metadata": {},
   "source": [
    "When training the model, the accuracy is considered satisfactory if the value is greater than 95%."
   ]
  },
  {
   "cell_type": "code",
   "execution_count": 17,
   "metadata": {},
   "outputs": [
    {
     "data": {
      "text/plain": [
       "98.51789764879966"
      ]
     },
     "execution_count": 17,
     "metadata": {},
     "output_type": "execute_result"
    }
   ],
   "source": [
    "result = pd.read_sql(\"SELECT PREDICT(%s) AS %s, %s as Rate, day FROM %s\" % (modelName, dataColumnPredict, dataColumn, dataTable), cnxn)\n",
    "result['Deviation'] = abs(result['Rate'].astype(float) - result['PredictedRate'].astype(float))/result['Rate'].astype(float)\n",
    "mape = result['Deviation'].sum()*100/result['Deviation'].count()\n",
    "accuracy = 100-mape\n",
    "accuracy\n"
   ]
  },
  {
   "cell_type": "code",
   "execution_count": 3,
   "metadata": {},
   "outputs": [],
   "source": [
    "cnxn.close()"
   ]
  }
 ],
 "metadata": {
  "kernelspec": {
   "display_name": "Python 3",
   "language": "python",
   "name": "python3"
  },
  "language_info": {
   "codemirror_mode": {
    "name": "ipython",
    "version": 3
   },
   "file_extension": ".py",
   "mimetype": "text/x-python",
   "name": "python",
   "nbconvert_exporter": "python",
   "pygments_lexer": "ipython3",
   "version": "3.6.9"
  }
 },
 "nbformat": 4,
 "nbformat_minor": 2
}