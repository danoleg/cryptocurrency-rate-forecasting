{
 "cells": [
  {
   "cell_type": "markdown",
   "metadata": {},
   "source": [
    "#### Get an ODBC connection "
   ]
  },
  {
   "cell_type": "code",
   "execution_count": 153,
   "metadata": {},
   "outputs": [
    {
     "name": "stdout",
     "output_type": "stream",
     "text": [
      "Connection created\n"
     ]
    }
   ],
   "source": [
    "import pyodbc \n",
    "import time\n",
    "\n",
    "server = 'irisimlsvr'\n",
    "port = '1972'\n",
    "database = 'USER' \n",
    "username = 'SUPERUSER' \n",
    "password = 'SYS' \n",
    "cnxn = pyodbc.connect('DRIVER={InterSystems ODBC35};SERVER='+server+';PORT='+port+';DATABASE='+database+';UID='+username+';PWD='+ password)\n",
    "\n",
    "cnxn.setdecoding(pyodbc.SQL_CHAR, encoding='utf8')\n",
    "cnxn.setdecoding(pyodbc.SQL_WCHAR, encoding='utf8')\n",
    "cnxn.setencoding(encoding='utf8')\n",
    "cursor = cnxn.cursor()\n",
    "print('Connection created')"
   ]
  },
  {
   "cell_type": "markdown",
   "metadata": {},
   "source": [
    "####  Prepare training data, and give a model name"
   ]
  },
  {
   "cell_type": "code",
   "execution_count": 143,
   "metadata": {},
   "outputs": [],
   "source": [
    "currency = {\n",
    "    'bitcoin': 1,\n",
    "    'ethereum': 1027,\n",
    "    'tether': 825,\n",
    "    'dogecoin': 74\n",
    "}\n",
    "selected_currency = \"bitcoin\" # SET YOUR CRYPTOCURRENCY HERE (bitcoin, ethereum, tether, dogecoin)\n",
    "\n",
    "dataTable = 'BitcoinRates_'+selected_currency\n",
    "dataColumn =  'Rate'\n",
    "dataColumnPredict = \"PredictedRate\"\n",
    "modelName = \"SVR_model_\"+selected_currency # must be unique\n",
    "train_size=90 #days\n",
    "test_size=10"
   ]
  },
  {
   "cell_type": "markdown",
   "metadata": {},
   "source": [
    "#### Get history rates"
   ]
  },
  {
   "cell_type": "code",
   "execution_count": 144,
   "metadata": {},
   "outputs": [
    {
     "data": {
      "text/plain": [
       "<pyodbc.Cursor at 0x7fd31fea8d30>"
      ]
     },
     "execution_count": 144,
     "metadata": {},
     "output_type": "execute_result"
    }
   ],
   "source": [
    "cursor.execute(f\"CREATE TABLE {dataTable} ( id INT(32) AUTO_INCREMENT PRIMARY KEY, day DATE, rate FLOAT)\")"
   ]
  },
  {
   "cell_type": "code",
   "execution_count": 155,
   "metadata": {},
   "outputs": [
    {
     "data": {
      "text/html": [
       "<div>\n",
       "<style scoped>\n",
       "    .dataframe tbody tr th:only-of-type {\n",
       "        vertical-align: middle;\n",
       "    }\n",
       "\n",
       "    .dataframe tbody tr th {\n",
       "        vertical-align: top;\n",
       "    }\n",
       "\n",
       "    .dataframe thead th {\n",
       "        text-align: right;\n",
       "    }\n",
       "</style>\n",
       "<table border=\"1\" class=\"dataframe\">\n",
       "  <thead>\n",
       "    <tr style=\"text-align: right;\">\n",
       "      <th></th>\n",
       "      <th>index</th>\n",
       "      <th>Date</th>\n",
       "      <th>Rate</th>\n",
       "    </tr>\n",
       "  </thead>\n",
       "  <tbody>\n",
       "    <tr>\n",
       "      <th>94</th>\n",
       "      <td>94</td>\n",
       "      <td>2022-05-27</td>\n",
       "      <td>28836.778337</td>\n",
       "    </tr>\n",
       "    <tr>\n",
       "      <th>95</th>\n",
       "      <td>95</td>\n",
       "      <td>2022-05-28</td>\n",
       "      <td>28845.242139</td>\n",
       "    </tr>\n",
       "    <tr>\n",
       "      <th>96</th>\n",
       "      <td>96</td>\n",
       "      <td>2022-05-29</td>\n",
       "      <td>29169.557664</td>\n",
       "    </tr>\n",
       "    <tr>\n",
       "      <th>97</th>\n",
       "      <td>97</td>\n",
       "      <td>2022-05-30</td>\n",
       "      <td>30626.601626</td>\n",
       "    </tr>\n",
       "    <tr>\n",
       "      <th>98</th>\n",
       "      <td>98</td>\n",
       "      <td>2022-05-31</td>\n",
       "      <td>31768.009140</td>\n",
       "    </tr>\n",
       "  </tbody>\n",
       "</table>\n",
       "</div>"
      ],
      "text/plain": [
       "    index        Date          Rate\n",
       "94     94  2022-05-27  28836.778337\n",
       "95     95  2022-05-28  28845.242139\n",
       "96     96  2022-05-29  29169.557664\n",
       "97     97  2022-05-30  30626.601626\n",
       "98     98  2022-05-31  31768.009140"
      ]
     },
     "execution_count": 155,
     "metadata": {},
     "output_type": "execute_result"
    }
   ],
   "source": [
    "import pandas as pd\n",
    "from datetime import datetime, timedelta\n",
    "import requests\n",
    "\n",
    "last_year_rates = pd.DataFrame(columns=['Date', 'Rate'])\n",
    "\n",
    "time_start = int((datetime.today() - timedelta(days=100)).timestamp())\n",
    "time_end = int(datetime.today().timestamp())\n",
    "\n",
    "url = f'https://api.coinmarketcap.com/data-api/v3/cryptocurrency/historical?id={currency[selected_currency]}&convertId=2781&timeStart={time_start}&timeEnd={time_end}'\n",
    "resp = requests.get(url=url)\n",
    "data = resp.json()\n",
    "for item in data['data']['quotes']:\n",
    "    last_year_rates = last_year_rates.append({'Date': item['timeOpen'][:10], 'Rate': (item['quote']['high']+item['quote']['low'])/2}, ignore_index=True)\n",
    "last_year_rates = last_year_rates.reset_index()\n",
    "last_year_rates.tail()"
   ]
  },
  {
   "cell_type": "markdown",
   "metadata": {},
   "source": [
    "#### Draw a chart of the cryptocurrency rate "
   ]
  },
  {
   "cell_type": "code",
   "execution_count": 146,
   "metadata": {},
   "outputs": [
    {
     "data": {
      "text/plain": [
       "<matplotlib.axes._subplots.AxesSubplot at 0x7fd31fda9400>"
      ]
     },
     "execution_count": 146,
     "metadata": {},
     "output_type": "execute_result"
    },
    {
     "data": {
      "image/png": "[encoded data removed]",
      "text/plain": [
       "<Figure size 432x288 with 1 Axes>"
      ]
     },
     "metadata": {
      "needs_background": "light"
     },
     "output_type": "display_data"
    }
   ],
   "source": [
    "last_year_rates[:train_size].plot.line('Date', 'Rate')"
   ]
  },
  {
   "cell_type": "markdown",
   "metadata": {},
   "source": [
    "#### Insert data into IRIS"
   ]
  },
  {
   "cell_type": "code",
   "execution_count": 147,
   "metadata": {},
   "outputs": [
    {
     "name": "stdout",
     "output_type": "stream",
     "text": [
      "Values inserted\n"
     ]
    }
   ],
   "source": [
    "cursor.execute(f\"TRUNCATE TABLE {dataTable}\")\n",
    "for index, row in last_year_rates.iterrows():\n",
    "    cursor.execute(f\"INSERT INTO {dataTable} (day, rate) VALUES ('{str(row['Date'])}', {row['Rate']})\")\n",
    "cnxn.commit()\n",
    "\n",
    "print('Values inserted')"
   ]
  },
  {
   "cell_type": "markdown",
   "metadata": {},
   "source": [
    "#### Train model and make prediction"
   ]
  },
  {
   "cell_type": "code",
   "execution_count": 148,
   "metadata": {},
   "outputs": [
    {
     "name": "stdout",
     "output_type": "stream",
     "text": [
      "Model training completed\n"
     ]
    }
   ],
   "source": [
    "cursor.execute(\"CREATE MODEL %s PREDICTING (%s)  FROM %s\" % (modelName, dataColumn, dataTable))\n",
    "\n",
    "cursor.execute(\"TRAIN MODEL %s FROM %s\" % (modelName, dataTable))\n",
    "cnxn.commit()\n",
    "print('Model training completed')"
   ]
  },
  {
   "cell_type": "markdown",
   "metadata": {},
   "source": [
    "#### Look at the result"
   ]
  },
  {
   "cell_type": "code",
   "execution_count": 149,
   "metadata": {},
   "outputs": [
    {
     "data": {
      "text/plain": [
       "<matplotlib.axes._subplots.AxesSubplot at 0x7fd31fcb2ef0>"
      ]
     },
     "execution_count": 149,
     "metadata": {},
     "output_type": "execute_result"
    },
    {
     "data": {
      "image/png": "[encoded data removed]",
      "text/plain": [
       "<Figure size 432x288 with 1 Axes>"
      ]
     },
     "metadata": {
      "needs_background": "light"
     },
     "output_type": "display_data"
    },
    {
     "data": {
      "image/png": "[encoded data removed]",
      "text/plain": [
       "<Figure size 432x288 with 1 Axes>"
      ]
     },
     "metadata": {
      "needs_background": "light"
     },
     "output_type": "display_data"
    }
   ],
   "source": [
    "data = pd.read_sql(\"SELECT %s as Rate, day FROM %s\" % (dataColumn, dataTable), cnxn)\n",
    "prediction = pd.read_sql(\"SELECT PREDICT(%s) AS %s, day FROM %s\" % (modelName, dataColumnPredict, dataTable), cnxn)\n",
    "\n",
    "all_data = data.sort_values(by=\"day\")[0:train_size].merge(prediction[-test_size:], on=\"day\", how=\"outer\")\n",
    "\n",
    "all_data.plot.line('day', color={'Rate': 'green', 'PredictedRate': 'red'}, title=\"Full period\")\n",
    "all_data[-30:].plot.line('day', color={'Rate': 'green', 'PredictedRate': 'red'}, title=\"Last 30 days\")"
   ]
  },
  {
   "cell_type": "markdown",
   "metadata": {},
   "source": [
    "#### Check model accuracy"
   ]
  },
  {
   "cell_type": "markdown",
   "metadata": {},
   "source": [
    "When training the model, the accuracy is considered satisfactory if the value is greater than 95%."
   ]
  },
  {
   "cell_type": "code",
   "execution_count": 154,
   "metadata": {},
   "outputs": [
    {
     "data": {
      "text/plain": [
       "96.97425460454967"
      ]
     },
     "execution_count": 154,
     "metadata": {},
     "output_type": "execute_result"
    }
   ],
   "source": [
    "result = pd.read_sql(\"SELECT PREDICT(%s) AS %s, %s as Rate, day FROM %s\" % (modelName, dataColumnPredict, dataColumn, dataTable), cnxn)\n",
    "result['Deviation'] = abs(result['Rate'].astype(float) - result['PredictedRate'].astype(float))/result['Rate'].astype(float)\n",
    "mape = result['Deviation'].sum()*100/result['Deviation'].count()\n",
    "accuracy = 100-mape\n",
    "accuracy"
   ]
  },
  {
   "cell_type": "code",
   "execution_count": 151,
   "metadata": {},
   "outputs": [],
   "source": [
    "cnxn.close()"
   ]
  }
 ],
 "metadata": {
  "kernelspec": {
   "display_name": "Python 3",
   "language": "python",
   "name": "python3"
  },
  "language_info": {
   "codemirror_mode": {
    "name": "ipython",
    "version": 3
   },
   "file_extension": ".py",
   "mimetype": "text/x-python",
   "name": "python",
   "nbconvert_exporter": "python",
   "pygments_lexer": "ipython3",
   "version": "3.6.9"
  }
 },
 "nbformat": 4,
 "nbformat_minor": 2
}